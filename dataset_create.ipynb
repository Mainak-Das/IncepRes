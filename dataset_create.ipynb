{
 "cells": [
  {
   "cell_type": "code",
   "execution_count": 1,
   "metadata": {},
   "outputs": [],
   "source": [
    "import os\n",
    "import numpy as np\n",
    "import random\n",
    "import shutil"
   ]
  },
  {
   "cell_type": "code",
   "execution_count": 2,
   "metadata": {},
   "outputs": [
    {
     "data": {
      "text/plain": [
       "['all_benign', 'all_early', 'all_pre', 'all_pro']"
      ]
     },
     "execution_count": 2,
     "metadata": {},
     "output_type": "execute_result"
    }
   ],
   "source": [
    "path = 'C:/Users/swast/Downloads/archive (3)/Multi Cancer/Multi Cancer'\n",
    "h = os.listdir(path)\n",
    "h"
   ]
  },
  {
   "cell_type": "code",
   "execution_count": 6,
   "metadata": {},
   "outputs": [],
   "source": [
    "dest_path = 'Cancer_dataset_all'\n",
    "for i in h:\n",
    "    os.mkdir(dest_path+'/train/'+i)\n",
    "    os.mkdir(dest_path+'/test/'+i)\n",
    "    os.mkdir(dest_path+'/val/'+i)\n",
    "# for i in h:\n",
    "#     if i != 'ALL':\n",
    "#         g = os.listdir(path+'/'+i)\n",
    "#         for j in g:\n",
    "#             os.mkdir(dest_path+'/train/'+j)\n",
    "#             os.mkdir(dest_path+'/test/'+j)\n",
    "#             os.mkdir(dest_path+'/val/'+j)"
   ]
  },
  {
   "cell_type": "code",
   "execution_count": 3,
   "metadata": {},
   "outputs": [
    {
     "name": "stdout",
     "output_type": "stream",
     "text": [
      "all_benign 5000\n",
      "all_early 5000\n",
      "all_pre 5000\n",
      "all_pro 5000\n"
     ]
    }
   ],
   "source": [
    "for i in h:\n",
    "    if i != 'ALL':\n",
    "        print(i, len(os.listdir(path+'/'+i)))"
   ]
  },
  {
   "cell_type": "code",
   "execution_count": 12,
   "metadata": {},
   "outputs": [
    {
     "name": "stdout",
     "output_type": "stream",
     "text": [
      "Bacterial Leaf Spot\n",
      "Downy Mildew\n",
      "Healthy Leaf\n",
      "Mosaic Disease\n",
      "Powdery_Mildew\n"
     ]
    }
   ],
   "source": [
    "for i in h:\n",
    "    # for j in g:  #base dir level\n",
    "    print(i)\n",
    "    f = os.listdir(dest_path+'/test/'+i)\n",
    "    train_sample = random.sample(range(80), 40)\n",
    "    count = 0\n",
    "    \n",
    "    for k in f:\n",
    "        if count in train_sample:\n",
    "            shutil.copy(dest_path+'/test/'+i+'/'+k, dest_path+'/val/'+i)\n",
    "            os.remove(dest_path+'/test/'+i+'/'+k)\n",
    "        count += 1"
   ]
  },
  {
   "cell_type": "code",
   "execution_count": 7,
   "metadata": {},
   "outputs": [
    {
     "name": "stdout",
     "output_type": "stream",
     "text": [
      "all_benign\n",
      "all_early\n",
      "all_pre\n",
      "all_pro\n"
     ]
    }
   ],
   "source": [
    "for i in h:\n",
    "    print(i)\n",
    "    f = os.listdir(path+'/'+i)\n",
    "    \n",
    "    train_sample = random.sample(range(5000), 4000)\n",
    "    count = 0\n",
    "    \n",
    "    for k in f:\n",
    "        if count in train_sample:\n",
    "            shutil.copy(path+'/'+i+'/'+k, dest_path+'/train/'+i)\n",
    "            os.remove(path+'/'+i+'/'+k)\n",
    "        count += 1"
   ]
  },
  {
   "cell_type": "code",
   "execution_count": 8,
   "metadata": {},
   "outputs": [
    {
     "name": "stdout",
     "output_type": "stream",
     "text": [
      "all_benign\n",
      "all_early\n",
      "all_pre\n",
      "all_pro\n"
     ]
    }
   ],
   "source": [
    "for i in h:\n",
    "    print(i)\n",
    "    f = os.listdir(path+'/'+i)\n",
    "    \n",
    "    train_sample = random.sample(range(1000), 500)\n",
    "    count = 0\n",
    "    \n",
    "    for k in f:\n",
    "        if count in train_sample:\n",
    "            shutil.copy(path+'/'+i+'/'+k, dest_path+'/test/'+i)\n",
    "            os.remove(path+'/'+i+'/'+k)\n",
    "        count += 1"
   ]
  },
  {
   "cell_type": "code",
   "execution_count": 9,
   "metadata": {},
   "outputs": [
    {
     "name": "stdout",
     "output_type": "stream",
     "text": [
      "all_benign\n",
      "all_early\n",
      "all_pre\n",
      "all_pro\n"
     ]
    }
   ],
   "source": [
    "for i in h:\n",
    "    print(i)\n",
    "    f = os.listdir(path+'/'+i)\n",
    "    \n",
    "    train_sample = random.sample(range(500), 500)\n",
    "    count = 0\n",
    "    \n",
    "    for k in f:\n",
    "        if count in train_sample:\n",
    "            shutil.copy(path+'/'+i+'/'+k, dest_path+'/val/'+i)\n",
    "            os.remove(path+'/'+i+'/'+k)\n",
    "        count += 1"
   ]
  },
  {
   "cell_type": "code",
   "execution_count": null,
   "metadata": {},
   "outputs": [],
   "source": [
    "for i in h:\n",
    "    if i != 'ALL':\n",
    "        g = os.listdir(path+'/'+i)\n",
    "        \n",
    "        for j in g:  #base dir level\n",
    "            print(j)\n",
    "            f = os.listdir(path+'/'+i+'/'+j)\n",
    "            train_sample = random.sample(range(5000), 4000)\n",
    "            count = 0\n",
    "            \n",
    "            for k in f:\n",
    "                if count in train_sample:\n",
    "                    shutil.copy(path+'/'+i+'/'+j+'/'+k, dest_path+'/test/'+j)\n",
    "                    os.remove(path+'/'+i+'/'+j+'/'+k)\n",
    "                count += 1"
   ]
  },
  {
   "cell_type": "code",
   "execution_count": null,
   "metadata": {},
   "outputs": [],
   "source": [
    "for i in h:\n",
    "    if i != 'ALL':\n",
    "        g = os.listdir(path+'/'+i)\n",
    "        \n",
    "        for j in g:  #base dir level\n",
    "            print(j)\n",
    "            f = os.listdir(path+'/'+i+'/'+j)\n",
    "            train_sample = random.sample(range(1000), 500)\n",
    "            count = 0\n",
    "            \n",
    "            for k in f:\n",
    "                if count in train_sample:\n",
    "                    shutil.copy(path+'/'+i+'/'+j+'/'+k, dest_path+'/test/'+j)\n",
    "                    os.remove(path+'/'+i+'/'+j+'/'+k)\n",
    "                count += 1"
   ]
  },
  {
   "cell_type": "code",
   "execution_count": 42,
   "metadata": {},
   "outputs": [
    {
     "name": "stdout",
     "output_type": "stream",
     "text": [
      "brain_glioma\n",
      "brain_menin\n",
      "brain_tumor\n",
      "breast_benign\n",
      "breast_malignant\n",
      "cervix_dyk\n",
      "cervix_koc\n",
      "cervix_mep\n",
      "cervix_pab\n",
      "cervix_sfi\n",
      "kidney_normal\n",
      "kidney_tumor\n",
      "colon_aca\n",
      "colon_bnt\n",
      "lung_aca\n",
      "lung_bnt\n",
      "lung_scc\n",
      "lymph_cll\n",
      "lymph_fl\n",
      "lymph_mcl\n",
      "oral_normal\n",
      "oral_scc\n"
     ]
    }
   ],
   "source": [
    "for i in h:\n",
    "    if i != 'ALL':\n",
    "        g = os.listdir(path+'/'+i)\n",
    "        \n",
    "        for j in g:  #base dir level\n",
    "            print(j)\n",
    "            f = os.listdir(path+'/'+i+'/'+j)\n",
    "            train_sample = random.sample(range(1000), 500)\n",
    "            count = 0\n",
    "            \n",
    "            for k in f:\n",
    "                if count in train_sample:\n",
    "                    shutil.copy(path+'/'+i+'/'+j+'/'+k, dest_path+'/test/'+j)\n",
    "                    os.remove(path+'/'+i+'/'+j+'/'+k)\n",
    "                count += 1"
   ]
  },
  {
   "cell_type": "code",
   "execution_count": 43,
   "metadata": {},
   "outputs": [
    {
     "name": "stdout",
     "output_type": "stream",
     "text": [
      "brain_glioma\n",
      "brain_menin\n",
      "brain_tumor\n",
      "breast_benign\n",
      "breast_malignant\n",
      "cervix_dyk\n",
      "cervix_koc\n",
      "cervix_mep\n",
      "cervix_pab\n",
      "cervix_sfi\n",
      "kidney_normal\n",
      "kidney_tumor\n",
      "colon_aca\n",
      "colon_bnt\n",
      "lung_aca\n",
      "lung_bnt\n",
      "lung_scc\n",
      "lymph_cll\n",
      "lymph_fl\n",
      "lymph_mcl\n",
      "oral_normal\n",
      "oral_scc\n"
     ]
    }
   ],
   "source": [
    "for i in h:\n",
    "    if i != 'ALL':\n",
    "        g = os.listdir(path+'/'+i)\n",
    "        \n",
    "        for j in g:  #base dir level\n",
    "            print(j)\n",
    "            f = os.listdir(path+'/'+i+'/'+j)\n",
    "            train_sample = random.sample(range(500), 500)\n",
    "            count = 0\n",
    "            \n",
    "            for k in f:\n",
    "                if count in train_sample:\n",
    "                    shutil.copy(path+'/'+i+'/'+j+'/'+k, dest_path+'/val/'+j)\n",
    "                    os.remove(path+'/'+i+'/'+j+'/'+k)\n",
    "                count += 1"
   ]
  }
 ],
 "metadata": {
  "kernelspec": {
   "display_name": "tf",
   "language": "python",
   "name": "python3"
  },
  "language_info": {
   "codemirror_mode": {
    "name": "ipython",
    "version": 3
   },
   "file_extension": ".py",
   "mimetype": "text/x-python",
   "name": "python",
   "nbconvert_exporter": "python",
   "pygments_lexer": "ipython3",
   "version": "3.10.14"
  }
 },
 "nbformat": 4,
 "nbformat_minor": 2
}
